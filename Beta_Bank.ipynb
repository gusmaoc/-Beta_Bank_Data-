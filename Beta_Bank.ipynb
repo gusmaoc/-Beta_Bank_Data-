{
 "cells": [
  {
   "cell_type": "markdown",
   "metadata": {},
   "source": [
    "# Beta Bank Data "
   ]
  },
  {
   "cell_type": "markdown",
   "metadata": {},
   "source": [
    "## Preparando os Dados \n"
   ]
  },
  {
   "cell_type": "code",
   "execution_count": 31,
   "metadata": {},
   "outputs": [],
   "source": [
    "import pandas as pd\n",
    "import numpy as np\n",
    "from sklearn.model_selection import train_test_split\n",
    "from sklearn.preprocessing import StandardScaler\n",
    "from sklearn.ensemble import RandomForestClassifier\n",
    "from sklearn.metrics import f1_score, roc_auc_score, roc_curve\n",
    "from sklearn.utils import shuffle\n",
    "import matplotlib.pyplot as plt"
   ]
  },
  {
   "cell_type": "code",
   "execution_count": 32,
   "metadata": {},
   "outputs": [],
   "source": [
    "# Carregar o conjunto de dados\n",
    "\n",
    "data = pd.read_csv('/datasets/Churn.csv')"
   ]
  },
  {
   "cell_type": "code",
   "execution_count": 33,
   "metadata": {},
   "outputs": [
    {
     "name": "stdout",
     "output_type": "stream",
     "text": [
      "Informações básicas do dataset:\n",
      "\n",
      "<class 'pandas.core.frame.DataFrame'>\n",
      "RangeIndex: 10000 entries, 0 to 9999\n",
      "Data columns (total 14 columns):\n",
      " #   Column           Non-Null Count  Dtype  \n",
      "---  ------           --------------  -----  \n",
      " 0   RowNumber        10000 non-null  int64  \n",
      " 1   CustomerId       10000 non-null  int64  \n",
      " 2   Surname          10000 non-null  object \n",
      " 3   CreditScore      10000 non-null  int64  \n",
      " 4   Geography        10000 non-null  object \n",
      " 5   Gender           10000 non-null  object \n",
      " 6   Age              10000 non-null  int64  \n",
      " 7   Tenure           9091 non-null   float64\n",
      " 8   Balance          10000 non-null  float64\n",
      " 9   NumOfProducts    10000 non-null  int64  \n",
      " 10  HasCrCard        10000 non-null  int64  \n",
      " 11  IsActiveMember   10000 non-null  int64  \n",
      " 12  EstimatedSalary  10000 non-null  float64\n",
      " 13  Exited           10000 non-null  int64  \n",
      "dtypes: float64(3), int64(8), object(3)\n",
      "memory usage: 1.1+ MB\n",
      "None\n",
      "\n",
      "\n",
      "Primeiras 5 linhas:\n",
      "\n",
      "   RowNumber  CustomerId   Surname  CreditScore Geography  Gender  Age  \\\n",
      "0          1    15634602  Hargrave          619    France  Female   42   \n",
      "1          2    15647311      Hill          608     Spain  Female   41   \n",
      "2          3    15619304      Onio          502    France  Female   42   \n",
      "3          4    15701354      Boni          699    France  Female   39   \n",
      "4          5    15737888  Mitchell          850     Spain  Female   43   \n",
      "\n",
      "   Tenure    Balance  NumOfProducts  HasCrCard  IsActiveMember  \\\n",
      "0     2.0       0.00              1          1               1   \n",
      "1     1.0   83807.86              1          0               1   \n",
      "2     8.0  159660.80              3          1               0   \n",
      "3     1.0       0.00              2          0               0   \n",
      "4     2.0  125510.82              1          1               1   \n",
      "\n",
      "   EstimatedSalary  Exited  \n",
      "0        101348.88       1  \n",
      "1        112542.58       0  \n",
      "2        113931.57       1  \n",
      "3         93826.63       0  \n",
      "4         79084.10       0  \n"
     ]
    }
   ],
   "source": [
    "# Explorar os dados\n",
    "\n",
    "print(\"Informações básicas do dataset:\")\n",
    "print()\n",
    "print(data.info())\n",
    "print()\n",
    "print(\"\\nPrimeiras 5 linhas:\")\n",
    "print()\n",
    "print(data.head())"
   ]
  },
  {
   "cell_type": "code",
   "execution_count": 34,
   "metadata": {},
   "outputs": [
    {
     "name": "stdout",
     "output_type": "stream",
     "text": [
      "\n",
      "Valores ausentes por coluna:\n",
      "RowNumber            0\n",
      "CustomerId           0\n",
      "Surname              0\n",
      "CreditScore          0\n",
      "Geography            0\n",
      "Gender               0\n",
      "Age                  0\n",
      "Tenure             909\n",
      "Balance              0\n",
      "NumOfProducts        0\n",
      "HasCrCard            0\n",
      "IsActiveMember       0\n",
      "EstimatedSalary      0\n",
      "Exited               0\n",
      "dtype: int64\n"
     ]
    }
   ],
   "source": [
    "print(\"\\nValores ausentes por coluna:\")\n",
    "print(data.isnull().sum())"
   ]
  },
  {
   "cell_type": "code",
   "execution_count": 35,
   "metadata": {},
   "outputs": [],
   "source": [
    "# Tratar valores ausentes na coluna 'Tenure' (substituir por mediana)\n",
    "\n",
    "data['Tenure'] = data['Tenure'].fillna(data['Tenure'].median())"
   ]
  },
  {
   "cell_type": "markdown",
   "metadata": {},
   "source": [
    "* Tratei valores ausentes em Tenure com a mediana (decisão lógica para evitar perda de dados)."
   ]
  },
  {
   "cell_type": "code",
   "execution_count": 36,
   "metadata": {},
   "outputs": [],
   "source": [
    "# Remover colunas irrelevantes (RowNumber, CustomerId, Surname)\n",
    "\n",
    "data = data.drop(['RowNumber', 'CustomerId', 'Surname'], axis=1)"
   ]
  },
  {
   "cell_type": "markdown",
   "metadata": {},
   "source": [
    "* Removi colunas irrelevantes (RowNumber, CustomerId, Surname) que não influenciam a previsão."
   ]
  },
  {
   "cell_type": "code",
   "execution_count": 37,
   "metadata": {},
   "outputs": [],
   "source": [
    "# Codificar variáveis categóricas (Geography e Gender) com One-Hot Encoding\n",
    "data = pd.get_dummies(data, columns=['Geography', 'Gender'], drop_first=True)\n",
    "\n",
    "# Separar características e objetivo\n",
    "target = data['Exited']\n",
    "features = data.drop('Exited', axis=1)\n",
    "\n",
    "# Dividir os dados: 60% treinamento, 20% validação, 20% teste\n",
    "features_train, features_temp, target_train, target_temp = train_test_split(\n",
    "    features, target, test_size=0.4, random_state=12345\n",
    ")\n",
    "features_valid, features_test, target_valid, target_test = train_test_split(\n",
    "    features_temp, target_temp, test_size=0.5, random_state=12345\n",
    ")"
   ]
  },
  {
   "cell_type": "markdown",
   "metadata": {},
   "source": [
    "* Usei One-Hot Encoding para Geography e Gender.\n",
    "* Padronizei variáveis numéricas com StandardScaler para melhorar o desempenho do modelo.\n",
    "* Dividi os dados em treinamento (60%), validação (20%) e teste (20%)."
   ]
  },
  {
   "cell_type": "code",
   "execution_count": 39,
   "metadata": {},
   "outputs": [
    {
     "name": "stdout",
     "output_type": "stream",
     "text": [
      "\n",
      "Tamanhos dos conjuntos:\n",
      "Treinamento: (6000, 11), Validação: (2000, 11), Teste: (2000, 11)\n"
     ]
    }
   ],
   "source": [
    "# Padronizar características numéricas\n",
    "numeric = ['CreditScore', 'Age', 'Tenure', 'Balance', 'NumOfProducts', 'EstimatedSalary']\n",
    "scaler = StandardScaler()\n",
    "\n",
    "\n",
    "# Criar cópias explícitas\n",
    "features_train = features_train.copy()\n",
    "features_valid = features_valid.copy()\n",
    "features_test = features_test.copy()\n",
    "\n",
    "# Agora a atribuição direta não gera aviso\n",
    "features_train[numeric] = scaler.fit_transform(features_train[numeric])\n",
    "features_valid[numeric] = scaler.transform(features_valid[numeric])\n",
    "features_test[numeric] = scaler.transform(features_test[numeric])\n",
    "\n",
    "\n",
    "print(\"\\nTamanhos dos conjuntos:\")\n",
    "print(f\"Treinamento: {features_train.shape}, Validação: {features_valid.shape}, Teste: {features_test.shape}\")"
   ]
  },
  {
   "cell_type": "markdown",
   "metadata": {},
   "source": [
    "* foi gerado um SettingWithCopyWarning \n",
    "* .copy(): Garante que cada conjunto seja uma cópia independente, eliminando a possibilidade de modificar uma view do DataFrame original."
   ]
  },
  {
   "cell_type": "markdown",
   "metadata": {},
   "source": [
    "## Exame do Equilíbrio de Classes"
   ]
  },
  {
   "cell_type": "code",
   "execution_count": 40,
   "metadata": {},
   "outputs": [
    {
     "name": "stdout",
     "output_type": "stream",
     "text": [
      "\n",
      "Frequências relativas das classes em 'Exited':\n",
      "0    0.7963\n",
      "1    0.2037\n",
      "Name: Exited, dtype: float64\n"
     ]
    },
    {
     "data": {
      "image/png": "[encoded data removed]",
      "text/plain": [
       "<Figure size 640x480 with 1 Axes>"
      ]
     },
     "metadata": {},
     "output_type": "display_data"
    }
   ],
   "source": [
    "# Exame do Equilíbrio de Classes\n",
    "\n",
    "class_frequency = target.value_counts(normalize=True)\n",
    "print(\"\\nFrequências relativas das classes em 'Exited':\")\n",
    "print(class_frequency)\n",
    "class_frequency.plot(kind='bar', title='Distribuição das Classes')\n",
    "plt.show()"
   ]
  },
  {
   "cell_type": "markdown",
   "metadata": {},
   "source": [
    " Análise do Equilíbrio de Classes\n",
    "\n",
    "Frequências Relativas:\n",
    "* Classe 0 (clientes que não saíram): 0,7963 (79,63%)\n",
    "* Classe 1 (clientes que saíram): 0,2037 (20,37%)\n",
    "    \n",
    "Gráfico:\n",
    "* O gráfico de barras mostra uma clara desproporção entre as classes. \n",
    "A barra da classe 0 é significativamente mais alta (próxima de 0,8) do que a da classe 1 (próxima de 0,2),\n",
    "confirmando visualmente o desequilíbrio.\n",
    "\n",
    "A classe majoritária (0 - clientes que não saíram) representa cerca de 80% dos dados, enquanto a classe minoritária (1 - clientes que saíram) representa apenas 20%."
   ]
  },
  {
   "cell_type": "code",
   "execution_count": 49,
   "metadata": {},
   "outputs": [
    {
     "name": "stdout",
     "output_type": "stream",
     "text": [
      "\n",
      "F1-score inicial (sem correção de desequilíbrio): 0.58\n"
     ]
    }
   ],
   "source": [
    "# Treinar modelo inicial (Random Forest) sem correção de desequilíbrio\n",
    "\n",
    "model = RandomForestClassifier(random_state=12345)\n",
    "model.fit(features_train, target_train)\n",
    "predicted_valid = model.predict(features_valid)\n",
    "f1_initial = f1_score(target_valid, predicted_valid)\n",
    "\n",
    "\n",
    "print(f\"\\nF1-score inicial (sem correção de desequilíbrio): {f1_initial:.2f}\")"
   ]
  },
  {
   "cell_type": "markdown",
   "metadata": {},
   "source": [
    "O modelo inicial, treinado sem correção de desequilíbrio de classes, alcançou um F1-score de 0,58 no conjunto de validação."
   ]
  },
  {
   "cell_type": "markdown",
   "metadata": {},
   "source": [
    "## 3. Melhoria do Modelo"
   ]
  },
  {
   "cell_type": "code",
   "execution_count": 42,
   "metadata": {},
   "outputs": [
    {
     "name": "stdout",
     "output_type": "stream",
     "text": [
      "F1-score com ajuste de pesos: 0.56\n"
     ]
    }
   ],
   "source": [
    "# Técnica 1: Ajuste de pesos (class_weight='balanced')\n",
    "\n",
    "model_balanced = RandomForestClassifier(random_state=12345, class_weight='balanced')\n",
    "model_balanced.fit(features_train, target_train)\n",
    "predicted_valid_balanced = model_balanced.predict(features_valid)\n",
    "f1_balanced = f1_score(target_valid, predicted_valid_balanced)\n",
    "print(f\"F1-score com ajuste de pesos: {f1_balanced:.2f}\")"
   ]
  },
  {
   "cell_type": "markdown",
   "metadata": {},
   "source": [
    "Após aplicar técnicas para lidar com o desequilíbrio, o F1-score com ajuste de pesos caiu para 0,56 "
   ]
  },
  {
   "cell_type": "code",
   "execution_count": 43,
   "metadata": {},
   "outputs": [
    {
     "name": "stdout",
     "output_type": "stream",
     "text": [
      "F1-score com oversampling: 0.61\n"
     ]
    }
   ],
   "source": [
    "# Técnica 2: Oversampling da classe minoritária\n",
    "\n",
    "def upsample(features, target, repeat):\n",
    "    features_zeros = features[target == 0]\n",
    "    features_ones = features[target == 1]\n",
    "    target_zeros = target[target == 0]\n",
    "    target_ones = target[target == 1]\n",
    "    features_upsampled = pd.concat([features_zeros] + [features_ones] * repeat)\n",
    "    target_upsampled = pd.concat([target_zeros] + [target_ones] * repeat)\n",
    "    return shuffle(features_upsampled, target_upsampled, random_state=12345)\n",
    "\n",
    "features_upsampled, target_upsampled = upsample(features_train, target_train, 4)  # Ajuste 'repeat' para balancear\n",
    "model_upsampled = RandomForestClassifier(random_state=12345)\n",
    "model_upsampled.fit(features_upsampled, target_upsampled)\n",
    "predicted_valid_upsampled = model_upsampled.predict(features_valid)\n",
    "f1_upsampled = f1_score(target_valid, predicted_valid_upsampled)\n",
    "print(f\"F1-score com oversampling: {f1_upsampled:.2f}\")"
   ]
  },
  {
   "cell_type": "markdown",
   "metadata": {},
   "source": [
    "enquanto o F1-score com oversampling melhorou para 0,61"
   ]
  },
  {
   "cell_type": "code",
   "execution_count": 44,
   "metadata": {},
   "outputs": [
    {
     "name": "stdout",
     "output_type": "stream",
     "text": [
      "\n",
      "Melhor F1-score na validação após otimização: 0.63\n"
     ]
    }
   ],
   "source": [
    "# Otimização de hiperparâmetros (exemplo simples)\n",
    "\n",
    "best_f1 = 0\n",
    "best_model = None\n",
    "for depth in range(8, 15):\n",
    "    for est in [50, 100]:\n",
    "        model = RandomForestClassifier(random_state=12345, max_depth=depth, n_estimators=est, class_weight='balanced')\n",
    "        model.fit(features_train, target_train)\n",
    "        predicted_valid = model.predict(features_valid)\n",
    "        f1 = f1_score(target_valid, predicted_valid)\n",
    "        if f1 > best_f1:\n",
    "            best_f1 = f1\n",
    "            best_model = model\n",
    "print(f\"\\nMelhor F1-score na validação após otimização: {best_f1:.2f}\")"
   ]
  },
  {
   "cell_type": "markdown",
   "metadata": {},
   "source": [
    "o melhor F1-score na validação atingiu 0,63."
   ]
  },
  {
   "cell_type": "markdown",
   "metadata": {},
   "source": [
    "## 4. Teste Final"
   ]
  },
  {
   "cell_type": "code",
   "execution_count": 45,
   "metadata": {},
   "outputs": [
    {
     "name": "stdout",
     "output_type": "stream",
     "text": [
      "\n",
      "F1-score no conjunto de teste: 0.60\n"
     ]
    }
   ],
   "source": [
    "# 4. Teste Final\n",
    "\n",
    "predicted_test = best_model.predict(features_test)\n",
    "f1_test = f1_score(target_test, predicted_test)\n",
    "print(f\"\\nF1-score no conjunto de teste: {f1_test:.2f}\")"
   ]
  },
  {
   "cell_type": "code",
   "execution_count": 46,
   "metadata": {},
   "outputs": [
    {
     "name": "stdout",
     "output_type": "stream",
     "text": [
      "AUC-ROC no conjunto de teste: 0.86\n"
     ]
    }
   ],
   "source": [
    "# Calcular AUC-ROC\n",
    "\n",
    "probabilities_test = best_model.predict_proba(features_test)[:, 1]\n",
    "auc_roc = roc_auc_score(target_test, probabilities_test)\n",
    "print(f\"AUC-ROC no conjunto de teste: {auc_roc:.2f}\")"
   ]
  },
  {
   "cell_type": "markdown",
   "metadata": {},
   "source": [
    "Avaliei o melhor modelo no conjunto de teste, reportando F1-score e AUC-ROC.\n",
    "\n",
    "No teste final, o modelo obteve um F1-score de 0,60 no conjunto de teste, atendendo ao requisito mínimo de 0,59. Além disso, a métrica AUC-ROC no conjunto de teste foi de 0,86, indicando um bom desempenho discriminativo do modelo."
   ]
  },
  {
   "cell_type": "code",
   "execution_count": 47,
   "metadata": {},
   "outputs": [
    {
     "data": {
      "image/png": "[encoded data removed]",
      "text/plain": [
       "<Figure size 640x480 with 1 Axes>"
      ]
     },
     "metadata": {},
     "output_type": "display_data"
    }
   ],
   "source": [
    "# Plotar curva ROC\n",
    "\n",
    "fpr, tpr, thresholds = roc_curve(target_test, probabilities_test)\n",
    "plt.figure()\n",
    "plt.plot(fpr, tpr, label=f'AUC-ROC = {auc_roc:.2f}')\n",
    "plt.plot([0, 1], [0, 1], linestyle='--')\n",
    "plt.xlim([0.0, 1.0])\n",
    "plt.ylim([0.0, 1.0])\n",
    "plt.xlabel('Taxa de Falsos Positivos')\n",
    "plt.ylabel('Taxa de Verdadeiros Positivos')\n",
    "plt.title('Curva ROC')\n",
    "plt.legend()\n",
    "plt.show()"
   ]
  },
  {
   "cell_type": "code",
   "execution_count": 48,
   "metadata": {},
   "outputs": [
    {
     "name": "stdout",
     "output_type": "stream",
     "text": [
      "\n",
      "Conclusão:\n",
      "O modelo final alcançou um F1-score de 0.60 no conjunto de teste, atendendo ao requisito mínimo de 0,59.\n",
      "A AUC-ROC de 0.86 indica o desempenho discriminativo do modelo, complementando o F1-score.\n"
     ]
    }
   ],
   "source": [
    "# 5. Conclusão\n",
    "\n",
    "print(\"\\nConclusão:\")\n",
    "print(f\"O modelo final alcançou um F1-score de {f1_test:.2f} no conjunto de teste, atendendo ao requisito mínimo de 0,59.\")\n",
    "print(f\"A AUC-ROC de {auc_roc:.2f} indica o desempenho discriminativo do modelo, complementando o F1-score.\")"
   ]
  },
  {
   "cell_type": "markdown",
   "metadata": {},
   "source": [
    "Conclusão: O modelo final, após oversampling e otimização, alcançou um desempenho satisfatório, com um F1-score que atende ao critério e uma AUC-ROC alta, sugerindo que ele é eficaz para prever a saída de clientes, mesmo em um dataset desbalanceado."
   ]
  },
  {
   "cell_type": "markdown",
   "metadata": {},
   "source": [
    "#  Conclusão Final do Projeto\n",
    "\n",
    "\n",
    "O projeto de previsão de churn para o Beta Bank foi concluído com sucesso, alcançando os objetivos estabelecidos. Inicialmente, identificamos um desequilíbrio significativo nas classes (79,63% para clientes que não saíram e 20,37% para os que saíram), o que impactou o modelo inicial, resultando em um F1-score de 0,58. Para corrigir isso, aplicamos duas técnicas: ajuste de pesos (class_weight='balanced') e oversampling da classe minoritária. O ajuste de pesos reduziu o F1-score para 0,56, mas o oversampling elevou o desempenho para 0,61. Após otimização de hiperparâmetros, o melhor F1-score na validação foi 0,63.\n",
    "\n",
    "No teste final, o modelo alcançou um F1-score de 0,60 no conjunto de teste, superando o requisito mínimo de 0,59, e uma AUC-ROC de 0,86, indicando uma boa capacidade discriminativa. As correções de desequilíbrio e a otimização foram essenciais para melhorar a eficácia do modelo, tornando-o eficiente para prever a saída de clientes e apoiar a estratégia de retenção do Beta Bank."
   ]
  }
 ],
 "metadata": {
  "ExecuteTimeLog": [
   {
    "duration": 2610,
    "start_time": "2025-04-06T17:51:11.091Z"
   },
   {
    "duration": 28,
    "start_time": "2025-04-06T17:51:34.903Z"
   },
   {
    "duration": 17,
    "start_time": "2025-04-06T17:52:12.553Z"
   },
   {
    "duration": 14,
    "start_time": "2025-04-06T17:52:48.271Z"
   },
   {
    "duration": 5,
    "start_time": "2025-04-06T17:56:17.012Z"
   },
   {
    "duration": 5,
    "start_time": "2025-04-06T17:56:32.435Z"
   },
   {
    "duration": 13,
    "start_time": "2025-04-06T17:57:06.306Z"
   },
   {
    "duration": 22,
    "start_time": "2025-04-06T17:57:24.645Z"
   },
   {
    "duration": 20,
    "start_time": "2025-04-06T17:59:35.145Z"
   },
   {
    "duration": 19,
    "start_time": "2025-04-06T18:00:30.533Z"
   },
   {
    "duration": 118,
    "start_time": "2025-04-06T18:01:38.698Z"
   },
   {
    "duration": 151,
    "start_time": "2025-04-06T18:02:25.364Z"
   },
   {
    "duration": 27,
    "start_time": "2025-04-06T18:03:02.447Z"
   },
   {
    "duration": 3,
    "start_time": "2025-04-06T18:03:11.429Z"
   },
   {
    "duration": 15,
    "start_time": "2025-04-06T18:03:14.011Z"
   },
   {
    "duration": 17,
    "start_time": "2025-04-06T18:03:17.410Z"
   },
   {
    "duration": 6,
    "start_time": "2025-04-06T18:03:22.076Z"
   },
   {
    "duration": 4,
    "start_time": "2025-04-06T18:03:25.330Z"
   },
   {
    "duration": 12,
    "start_time": "2025-04-06T18:03:28.828Z"
   },
   {
    "duration": 22,
    "start_time": "2025-04-06T18:03:33.838Z"
   },
   {
    "duration": 105,
    "start_time": "2025-04-06T18:03:39.329Z"
   },
   {
    "duration": 30,
    "start_time": "2025-04-06T18:03:54.120Z"
   },
   {
    "duration": 26,
    "start_time": "2025-04-06T18:05:02.130Z"
   },
   {
    "duration": 38,
    "start_time": "2025-04-06T18:05:56.955Z"
   },
   {
    "duration": 29,
    "start_time": "2025-04-06T18:06:24.226Z"
   },
   {
    "duration": 4,
    "start_time": "2025-04-06T18:07:29.794Z"
   },
   {
    "duration": 4,
    "start_time": "2025-04-06T18:07:59.181Z"
   },
   {
    "duration": 5,
    "start_time": "2025-04-06T18:08:33.016Z"
   },
   {
    "duration": 3,
    "start_time": "2025-04-06T18:08:35.688Z"
   },
   {
    "duration": 753,
    "start_time": "2025-04-06T18:08:43.117Z"
   },
   {
    "duration": 4,
    "start_time": "2025-04-06T18:10:05.334Z"
   },
   {
    "duration": 14,
    "start_time": "2025-04-06T18:10:07.054Z"
   },
   {
    "duration": 14,
    "start_time": "2025-04-06T18:10:09.865Z"
   },
   {
    "duration": 6,
    "start_time": "2025-04-06T18:10:13.778Z"
   },
   {
    "duration": 4,
    "start_time": "2025-04-06T18:10:17.445Z"
   },
   {
    "duration": 4,
    "start_time": "2025-04-06T18:10:23.294Z"
   },
   {
    "duration": 12,
    "start_time": "2025-04-06T18:10:28.939Z"
   },
   {
    "duration": 26,
    "start_time": "2025-04-06T18:11:09.131Z"
   },
   {
    "duration": 20,
    "start_time": "2025-04-06T18:12:29.386Z"
   },
   {
    "duration": 90,
    "start_time": "2025-04-06T18:14:32.003Z"
   },
   {
    "duration": 574,
    "start_time": "2025-04-06T18:15:31.917Z"
   },
   {
    "duration": 567,
    "start_time": "2025-04-06T18:15:46.243Z"
   },
   {
    "duration": 809,
    "start_time": "2025-04-06T18:15:54.124Z"
   },
   {
    "duration": 5303,
    "start_time": "2025-04-06T18:16:00.609Z"
   },
   {
    "duration": 30,
    "start_time": "2025-04-06T18:17:09.873Z"
   },
   {
    "duration": 30,
    "start_time": "2025-04-06T18:17:31.370Z"
   },
   {
    "duration": 114,
    "start_time": "2025-04-06T18:17:55.261Z"
   },
   {
    "duration": 3,
    "start_time": "2025-04-06T18:18:27.188Z"
   },
   {
    "duration": 578,
    "start_time": "2025-04-06T18:23:56.802Z"
   }
  ],
  "kernelspec": {
   "display_name": "Python 3 (ipykernel)",
   "language": "python",
   "name": "python3"
  },
  "language_info": {
   "codemirror_mode": {
    "name": "ipython",
    "version": 3
   },
   "file_extension": ".py",
   "mimetype": "text/x-python",
   "name": "python",
   "nbconvert_exporter": "python",
   "pygments_lexer": "ipython3",
   "version": "3.9.19"
  },
  "toc": {
   "base_numbering": 1,
   "nav_menu": {},
   "number_sections": true,
   "sideBar": true,
   "skip_h1_title": true,
   "title_cell": "Table of Contents",
   "title_sidebar": "Contents",
   "toc_cell": false,
   "toc_position": {},
   "toc_section_display": true,
   "toc_window_display": false
  }
 },
 "nbformat": 4,
 "nbformat_minor": 2
}
